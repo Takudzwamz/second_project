{
  "nbformat": 4,
  "nbformat_minor": 0,
  "metadata": {
    "colab": {
      "provenance": [],
      "toc_visible": true,
      "authorship_tag": "ABX9TyNEOuWhMjcI7pqhpEUH1GSf",
      "include_colab_link": true
    },
    "kernelspec": {
      "name": "python3",
      "display_name": "Python 3"
    },
    "language_info": {
      "name": "python"
    }
  },
  "cells": [
    {
      "cell_type": "markdown",
      "metadata": {
        "id": "view-in-github",
        "colab_type": "text"
      },
      "source": [
        "<a href=\"https://colab.research.google.com/github/Takudzwamz/second_project/blob/main/AutomatedDataCollection.ipynb\" target=\"_parent\"><img src=\"https://colab.research.google.com/assets/colab-badge.svg\" alt=\"Open In Colab\"/></a>"
      ]
    },
    {
      "cell_type": "markdown",
      "source": [
        "# 1.\n",
        "###Install packages\n"
      ],
      "metadata": {
        "id": "6swJKhRXMMLy"
      }
    },
    {
      "cell_type": "code",
      "execution_count": 1,
      "metadata": {
        "colab": {
          "base_uri": "https://localhost:8080/"
        },
        "id": "mhuAZbk4YzF8",
        "outputId": "604a63ad-4af7-4aeb-f139-1bdd355c6e9c"
      },
      "outputs": [
        {
          "output_type": "stream",
          "name": "stdout",
          "text": [
            "Looking in indexes: https://pypi.org/simple, https://us-python.pkg.dev/colab-wheels/public/simple/\n",
            "Requirement already satisfied: beautifulsoup4 in /usr/local/lib/python3.9/dist-packages (4.11.2)\n",
            "Requirement already satisfied: soupsieve>1.2 in /usr/local/lib/python3.9/dist-packages (from beautifulsoup4) (2.4)\n",
            "Looking in indexes: https://pypi.org/simple, https://us-python.pkg.dev/colab-wheels/public/simple/\n",
            "Requirement already satisfied: pandas in /usr/local/lib/python3.9/dist-packages (1.5.3)\n",
            "Requirement already satisfied: python-dateutil>=2.8.1 in /usr/local/lib/python3.9/dist-packages (from pandas) (2.8.2)\n",
            "Requirement already satisfied: pytz>=2020.1 in /usr/local/lib/python3.9/dist-packages (from pandas) (2022.7.1)\n",
            "Requirement already satisfied: numpy>=1.20.3 in /usr/local/lib/python3.9/dist-packages (from pandas) (1.22.4)\n",
            "Requirement already satisfied: six>=1.5 in /usr/local/lib/python3.9/dist-packages (from python-dateutil>=2.8.1->pandas) (1.16.0)\n"
          ]
        }
      ],
      "source": [
        "!python3 -m pip install beautifulsoup4\n",
        "!python3 -m pip install pandas"
      ]
    },
    {
      "cell_type": "markdown",
      "source": [
        "# 2\n",
        "### i. Разработка простейшей модели поискового робота с классическим алгоритмом сбора и обработки данных в сети Веб 1.0/Веб 2.0. \n",
        "### ii . Автоматизированный сбор данных с помощью простейшей модели поискового робота на основе специализированного алгоритма обхода на примере сайтов СПбГУ и МГУ – для Веб 1.0. \n",
        "### iii .Сбор статистики обработанных страниц для Веб 1.0: общее количество страниц и всех ссылок, количество внутренних страниц, количество неработающих страниц, количество внутренних поддоменов, общее количество ссылок на внешние ресурсы, количество уникальных внешних ресурсов, количество уникальных ссылок на файлы doc/docx/pdf."
      ],
      "metadata": {
        "id": "ozi5fZQONJf5"
      }
    },
    {
      "cell_type": "code",
      "source": [
        "%%file uni_crawler.py\n",
        "\n",
        "import requests\n",
        "from bs4 import BeautifulSoup\n",
        "import pandas as pd\n",
        "import os\n",
        "import pytest\n",
        "\n",
        "# URLs to crawl\n",
        "urls = ['https://spbu.ru/#', 'https://vsu.ru', 'https://www.msu.ru/']\n",
        "\n",
        "# Initialize empty lists to store crawled links\n",
        "all_links = []\n",
        "internal_links = []\n",
        "external_links = []\n",
        "doc_links = []\n",
        "subdomains = set()\n",
        "\n",
        "# Loop through URLs and crawl links\n",
        "for url in urls:\n",
        "    response = requests.get(url)\n",
        "    soup = BeautifulSoup(response.content, 'html.parser')\n",
        "    links = soup.find_all('a')\n",
        "    for link in links:\n",
        "        href = link.get('href')\n",
        "        if href:\n",
        "            if href.startswith('http'):\n",
        "                all_links.append(href)\n",
        "                if url in href:\n",
        "                    internal_links.append(href)\n",
        "                    subdomains.add(href.split('/')[2])\n",
        "                else:\n",
        "                    external_links.append(href)\n",
        "            elif href.endswith(('doc', 'docx', 'pdf')):\n",
        "                doc_links.append(href)\n",
        "                all_links.append(href)\n",
        "            else:\n",
        "                all_links.append(url + href)\n",
        "                internal_links.append(url + href)\n",
        "\n",
        "# Count statistics\n",
        "num_pages = len(all_links)\n",
        "num_internal_pages = len(internal_links)\n",
        "num_broken_pages = num_pages - len(set(all_links))\n",
        "num_subdomains = len(subdomains)\n",
        "num_external_resources = len(external_links)\n",
        "num_unique_external_resources = len(set(external_links))\n",
        "num_unique_doc_links = len(set(doc_links))\n",
        "\n",
        "# Create dataframe with statistics\n",
        "df = pd.DataFrame({\n",
        "    'Num Pages': [num_pages],\n",
        "    'Num Internal Pages': [num_internal_pages],\n",
        "    'Num Broken Pages': [num_broken_pages],\n",
        "    'Num Internal Subdomains': [num_subdomains],\n",
        "    'Num External Resources': [num_external_resources],\n",
        "    'Num Unique External Resources': [num_unique_external_resources],\n",
        "    'Num Unique Doc Links': [num_unique_doc_links]\n",
        "})\n",
        "\n",
        "# Save results and statistics to files\n",
        "results_dir = 'results'\n",
        "if not os.path.exists(results_dir):\n",
        "    os.makedirs(results_dir)\n",
        "df.to_csv(os.path.join(results_dir, 'statistics.csv'), index=False)\n",
        "with open(os.path.join(results_dir, 'links.txt'), 'w') as f:\n",
        "    f.write('\\n'.join(all_links))\n",
        "\n",
        "# Test Scenario 1: Verify that the program collects all links from the MSU website\n",
        "def test_msu_links():\n",
        "    with open('results/links.txt', 'r') as f:\n",
        "        links = f.read().splitlines()\n",
        "    assert 'https://www.msu.ru/#' in links\n",
        "    assert 'https://www.msu.ru//press/' in links\n",
        "    assert 'https://www.msu.ru//ad/' in links\n",
        "    assert 'https://www.msu.ru//science/' in links\n",
        "\n",
        "# Test Scenario 2: Verify that the program collects all links from the MSU website\n",
        "def test_vsu_links():\n",
        "    with open('results/links.txt', 'r') as f:\n",
        "        links = f.read().splitlines()\n",
        "    assert 'https://vsu.ru/' in links\n",
        "    assert 'https://vsu.ru/en' in links\n",
        "    assert 'http://www.vsu.ru/sveden/' in links\n",
        "    assert 'http://www.abitur.vsu.ru/' in links\n",
        "\n",
        "# Test Scenario 3: Failing Test for https://spbu.ru, is protected making it hard for the crawler to crawl it\n",
        "# Tried Multiple solutions but the https://spbu.ru is not being crawled.\n",
        "def test_spbu_links():\n",
        "    with open('results/links.txt', 'r') as f:\n",
        "        links = f.read().splitlines()\n",
        "    assert 'https://spbu.ru/#' in links\n",
        "    \n",
        "\n",
        "# Test Scenario 4: Verify that the program collects all internal links from the MSU website\n",
        "def test_msu_internal_links():\n",
        "    with open('results/links.txt', 'r') as f:\n",
        "        links = f.read().splitlines()\n",
        "    assert 'https://www.msu.ru//science/ad/' in links\n",
        "    assert 'https://www.msu.ru//news/' in links\n",
        "    assert 'https://www.msu.ru//address/' in links\n",
        "    assert 'https://www.msu.ru//address/' in links\n",
        "\n",
        "# Test Scenario 5: Verify that the program collects all external links from the MSU website\n",
        "def test_msu_external_links():\n",
        "    with open('results/links.txt', 'r') as f:\n",
        "        links = f.read().splitlines()\n",
        "    assert 'https://zen.yandex.ru/msu_official' in links\n",
        "    assert 'https://t.me/naukamsu' in links\n",
        "    assert 'http://vk.com/dnevnik_msu' in links\n",
        "    assert 'http://vk.com/msu_official' in links\n",
        "\n",
        "# Test Scenario 4: Verify that the program collects all internal links from the MSU website\n",
        "def test_vsu_internal_links():\n",
        "    with open('results/links.txt', 'r') as f:\n",
        "        links = f.read().splitlines()\n",
        "    assert 'https://vsu.ru/sveden/document' in links\n",
        "    assert 'https://vsu.ru/sveden/common' in links\n",
        "    assert 'https://vsu.ru/sveden/vacant' in links\n",
        "    assert 'https://vsu.ru/ru/university/partnership/' in links\n",
        "\n",
        "# Test Scenario 5: Verify that the program collects all external links from the MSU website\n",
        "def test_vsu_external_links():\n",
        "    with open('results/links.txt', 'r') as f:\n",
        "        links = f.read().splitlines()\n",
        "    assert 'https://t.me/vsumain' in links\n",
        "    assert 'http://vk.com/vsumain' in links\n",
        "    assert 'http://www.youtube.com/user/VSUPRESS?feature=watch' in links\n",
        "\n",
        "\n",
        "# Test Scenario 6: Verify that the program collects the correct statistics for the MSU website\n",
        "def test_all_statistics():\n",
        "    df = pd.read_csv('results/statistics.csv')\n",
        "    assert df.loc[0, 'Num Pages'] == 564\n",
        "    assert df.loc[0, 'Num Internal Pages'] == 385\n",
        "    assert df.loc[0, 'Num Broken Pages'] == 213\n",
        "    assert df.loc[0, 'Num Internal Subdomains'] == 0\n",
        "    assert df.loc[0, 'Num External Resources'] == 166\n",
        "    assert df.loc[0, 'Num Unique External Resources'] == 100\n",
        "    assert df.loc[0, 'Num Unique Doc Links'] == 12\n",
        "\n",
        "# Test Scenario 7: Verify that the program creates the results directory and files\n",
        "def test_results_directory_and_files():\n",
        "    assert os.path.exists('results')\n",
        "    assert os.path.exists('results/links.txt')\n",
        "    assert os.path.exists('results/statistics.csv')\n",
        "\n"
      ],
      "metadata": {
        "colab": {
          "base_uri": "https://localhost:8080/"
        },
        "id": "mHW6j57WZl4f",
        "outputId": "6e54b5b7-964e-4180-e3cd-3ce0d0d225cf"
      },
      "execution_count": 45,
      "outputs": [
        {
          "output_type": "stream",
          "name": "stdout",
          "text": [
            "Overwriting uni_crawler.py\n"
          ]
        }
      ]
    },
    {
      "cell_type": "markdown",
      "source": [
        "### Run Pytests\n"
      ],
      "metadata": {
        "id": "49Wo94E8Opt5"
      }
    },
    {
      "cell_type": "code",
      "source": [
        "!python3 -m  pytest uni_crawler.py"
      ],
      "metadata": {
        "colab": {
          "base_uri": "https://localhost:8080/"
        },
        "id": "P_f_6Ap7DTOD",
        "outputId": "a33ced37-4b5f-46ae-8ba9-d52d0fc4c12c"
      },
      "execution_count": 46,
      "outputs": [
        {
          "output_type": "stream",
          "name": "stdout",
          "text": [
            "\u001b[1m============================= test session starts ==============================\u001b[0m\n",
            "platform linux -- Python 3.9.16, pytest-7.2.2, pluggy-1.0.0\n",
            "rootdir: /content\n",
            "plugins: anyio-3.6.2\n",
            "collected 9 items                                                              \u001b[0m\n",
            "\n",
            "uni_crawler.py \u001b[32m.\u001b[0m\u001b[32m.\u001b[0m\u001b[31mF\u001b[0m\u001b[32m.\u001b[0m\u001b[32m.\u001b[0m\u001b[32m.\u001b[0m\u001b[32m.\u001b[0m\u001b[32m.\u001b[0m\u001b[32m.\u001b[0m\u001b[31m                                                 [100%]\u001b[0m\n",
            "\n",
            "=================================== FAILURES ===================================\n",
            "\u001b[31m\u001b[1m_______________________________ test_spbu_links ________________________________\u001b[0m\n",
            "\n",
            "    \u001b[94mdef\u001b[39;49;00m \u001b[92mtest_spbu_links\u001b[39;49;00m():\u001b[90m\u001b[39;49;00m\n",
            "        \u001b[94mwith\u001b[39;49;00m \u001b[96mopen\u001b[39;49;00m(\u001b[33m'\u001b[39;49;00m\u001b[33mresults/links.txt\u001b[39;49;00m\u001b[33m'\u001b[39;49;00m, \u001b[33m'\u001b[39;49;00m\u001b[33mr\u001b[39;49;00m\u001b[33m'\u001b[39;49;00m) \u001b[94mas\u001b[39;49;00m f:\u001b[90m\u001b[39;49;00m\n",
            "            links = f.read().splitlines()\u001b[90m\u001b[39;49;00m\n",
            ">       \u001b[94massert\u001b[39;49;00m \u001b[33m'\u001b[39;49;00m\u001b[33mhttps://spbu.ru/#\u001b[39;49;00m\u001b[33m'\u001b[39;49;00m \u001b[95min\u001b[39;49;00m links\u001b[90m\u001b[39;49;00m\n",
            "\u001b[1m\u001b[31mE       AssertionError: assert 'https://spbu.ru/#' in ['https://vsu.ru/', 'https://vsu.ru/en', 'https://vsu.ru/de', 'https://vsu.ru/fr', 'https://vsu.ru/es', 'https://vsu.ru/cn', ...]\u001b[0m\n",
            "\n",
            "\u001b[1m\u001b[31muni_crawler.py\u001b[0m:91: AssertionError\n",
            "\u001b[36m\u001b[1m=========================== short test summary info ============================\u001b[0m\n",
            "\u001b[31mFAILED\u001b[0m uni_crawler.py::\u001b[1mtest_spbu_links\u001b[0m - AssertionError: assert 'https://spbu.ru/#' in ['https://vsu.ru/', 'https://...\n",
            "\u001b[31m========================= \u001b[31m\u001b[1m1 failed\u001b[0m, \u001b[32m8 passed\u001b[0m\u001b[31m in 3.48s\u001b[0m\u001b[31m ==========================\u001b[0m\n"
          ]
        }
      ]
    }
  ]
}